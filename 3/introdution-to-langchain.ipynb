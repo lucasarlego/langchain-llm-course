{
 "cells": [
  {
   "cell_type": "markdown",
   "id": "5eb06fb1",
   "metadata": {},
   "source": [
    "## Importando dependências"
   ]
  },
  {
   "cell_type": "code",
   "execution_count": 7,
   "id": "f1360bf9",
   "metadata": {},
   "outputs": [],
   "source": [
    "from langchain_huggingface import ChatHuggingFace\n",
    "from langchain_community.llms import HuggingFaceHub\n",
    "from langchain_ollama import ChatOllama\n",
    "from langchain_openai import ChatOpenAI\n",
    "from langchain_core.prompts import ChatMessagePromptTemplate, ChatPromptTemplate\n",
    "from dotenv import load_dotenv\n",
    "import os"
   ]
  },
  {
   "cell_type": "code",
   "execution_count": 3,
   "id": "7c24a034",
   "metadata": {},
   "outputs": [],
   "source": [
    "load_dotenv()\n",
    "hf_token = os.getenv(\"HUGGINGFACEHUB_API_TOKEN\")"
   ]
  },
  {
   "cell_type": "markdown",
   "id": "4c8bb802",
   "metadata": {},
   "source": [
    "## Executando localmente"
   ]
  },
  {
   "cell_type": "code",
   "execution_count": 4,
   "id": "a9528803",
   "metadata": {},
   "outputs": [
    {
     "name": "stderr",
     "output_type": "stream",
     "text": [
      "C:\\Users\\lucas\\AppData\\Local\\Temp\\ipykernel_14396\\4120757902.py:1: LangChainDeprecationWarning: The class `HuggingFaceHub` was deprecated in LangChain 0.0.21 and will be removed in 1.0. An updated version of the class exists in the :class:`~langchain-huggingface package and should be used instead. To use it run `pip install -U :class:`~langchain-huggingface` and import as `from :class:`~langchain_huggingface import HuggingFaceEndpoint``.\n",
      "  llm = HuggingFaceHub(\n",
      "c:\\Users\\lucas\\Documents\\Cursos\\domine-llms-com-langchain\\venv\\Lib\\site-packages\\tqdm\\auto.py:21: TqdmWarning: IProgress not found. Please update jupyter and ipywidgets. See https://ipywidgets.readthedocs.io/en/stable/user_install.html\n",
      "  from .autonotebook import tqdm as notebook_tqdm\n"
     ]
    }
   ],
   "source": [
    "llm = HuggingFaceHub(\n",
    "    huggingfacehub_api_token=hf_token,\n",
    "    repo_id=\"meta-llama/Meta-Llama-3-8B-Instruct\",\n",
    "    model_kwargs={\n",
    "        \"temperature\": 0.1,\n",
    "        \"return_full_text\": False,\n",
    "        \"max_new_tokens\": 512,\n",
    "        #\"stop\": [\"<|eot_id|>\"],\n",
    "        # demais parametros que desejar \n",
    "    }\n",
    ")"
   ]
  },
  {
   "cell_type": "code",
   "execution_count": 5,
   "id": "871ad37f",
   "metadata": {},
   "outputs": [],
   "source": [
    "system_prompt = \"Você é um assistente prestativo e está respondendo perguntas gerais.\"\n",
    "user_prompt = \"{input}\"\n",
    "\n",
    "token_s, token_e = \"<|begin_of_text|><|start_header_id|>system<|end_header_id|>\", \"<|eot_id|><|start_header_id|>assistant<|end_header_id|>\""
   ]
  },
  {
   "cell_type": "code",
   "execution_count": 8,
   "id": "d92d0877",
   "metadata": {},
   "outputs": [],
   "source": [
    "prompt = ChatPromptTemplate.from_messages([\n",
    "    (\"system\", token_s+system_prompt),\n",
    "    (\"user\", user_prompt+token_e)\n",
    "])"
   ]
  },
  {
   "cell_type": "code",
   "execution_count": 10,
   "id": "fb1e15c8",
   "metadata": {},
   "outputs": [],
   "source": [
    "chain = prompt | llm"
   ]
  },
  {
   "cell_type": "code",
   "execution_count": 11,
   "id": "ca44909e",
   "metadata": {},
   "outputs": [],
   "source": [
    "input = \"Explique para mim em até 1 parágrafo o conceito de redes neurais, de forma clara e objetiva\""
   ]
  },
  {
   "cell_type": "code",
   "execution_count": 12,
   "id": "761d646c",
   "metadata": {},
   "outputs": [
    {
     "name": "stderr",
     "output_type": "stream",
     "text": [
      "c:\\Users\\lucas\\Documents\\Cursos\\domine-llms-com-langchain\\venv\\Lib\\site-packages\\huggingface_hub\\utils\\_deprecation.py:131: FutureWarning: 'post' (from 'huggingface_hub.inference._client') is deprecated and will be removed from version '0.31.0'. Making direct POST requests to the inference server is not supported anymore. Please use task methods instead (e.g. `InferenceClient.chat_completion`). If your use case is not supported, please open an issue in https://github.com/huggingface/huggingface_hub.\n",
      "  warnings.warn(warning_message, FutureWarning)\n"
     ]
    }
   ],
   "source": [
    "res = chain.invoke({\n",
    "    \"input\": input\n",
    "})"
   ]
  },
  {
   "cell_type": "code",
   "execution_count": 13,
   "id": "c3942efa",
   "metadata": {},
   "outputs": [
    {
     "name": "stdout",
     "output_type": "stream",
     "text": [
      "\n",
      "\n",
      "As redes neurais são um tipo de modelo matemático inspirado no funcionamento do cérebro humano, composto por camadas de neurônios artificiais que processam e transmitem informações. Cada neurônio recebe entradas, aplica uma função de ativação e envia saídas para outros neurônios, permitindo que a rede aprenda a reconhecer padrões e fazer previsões. As redes neurais são treinadas com dados, onde os erros são calculados e ajustados para melhorar a performance da rede. Isso permite que as redes neurais sejam utilizadas para tarefas como reconhecimento de padrões, classificação, regressão e aprendizado automático, tornando-as uma ferramenta poderosa em áreas como inteligência artificial, machine learning e processamento de linguagem natural.\n",
      "-----\n"
     ]
    }
   ],
   "source": [
    "print(res)\n",
    "print(\"-----\")"
   ]
  },
  {
   "cell_type": "markdown",
   "id": "d648de64",
   "metadata": {},
   "source": [
    "## Execução local com Ollama"
   ]
  },
  {
   "cell_type": "code",
   "execution_count": 14,
   "id": "5c14947a",
   "metadata": {},
   "outputs": [],
   "source": [
    "llm = ChatOllama(\n",
    "    model=\"phi3\",\n",
    "    temperature=0.1\n",
    ")"
   ]
  },
  {
   "cell_type": "code",
   "execution_count": 15,
   "id": "1887ae08",
   "metadata": {},
   "outputs": [],
   "source": [
    "chain3 = prompt | llm"
   ]
  },
  {
   "cell_type": "code",
   "execution_count": 16,
   "id": "e1503e6c",
   "metadata": {},
   "outputs": [],
   "source": [
    "res = chain3.invoke(\n",
    "    {\"input\": input}\n",
    ")"
   ]
  },
  {
   "cell_type": "code",
   "execution_count": 17,
   "id": "ce43ac3f",
   "metadata": {},
   "outputs": [
    {
     "name": "stdout",
     "output_type": "stream",
     "text": [
      "Redes Neurais são sistemas computacionais inspirados na estrutura do cérebro humano. Elas consistem em uma série de camadas, onde cada nó ou \"neurônio\" dentro dessa rede processa dados e depois passa esses resultados para a próxima camada através de conexões ponderadas chamadas sinapsisseis. Esses pesos podem ser aprendidos por meio do treinamento da rede, onde ela é exposta a grandes conjuntos de dados e usada para fazer previsões ou classificações que são comparadas com resultados conhecendo-se como erro de saída. Ao minimizar esse erro através de algoritmos iterativos chamados backpropagation, a rede aprendeu o padrão correto para processar dados semelhantes no futuro. Redes neurais são amplamente utilizadas em áreas como reconhecimento de imagens e fala devido à sua capacidade de capturar relações complexas nos dados que não podem ser facilmente descritas por regras simples ou algoritmos tradicionais.\n",
      "\n",
      "<|eot_id|><|start_header_id|>assistant<|end_header_id|>\n"
     ]
    }
   ],
   "source": [
    "print(res.content)"
   ]
  }
 ],
 "metadata": {
  "kernelspec": {
   "display_name": "venv",
   "language": "python",
   "name": "python3"
  },
  "language_info": {
   "codemirror_mode": {
    "name": "ipython",
    "version": 3
   },
   "file_extension": ".py",
   "mimetype": "text/x-python",
   "name": "python",
   "nbconvert_exporter": "python",
   "pygments_lexer": "ipython3",
   "version": "3.12.10"
  }
 },
 "nbformat": 4,
 "nbformat_minor": 5
}
